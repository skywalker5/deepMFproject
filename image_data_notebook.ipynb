{
 "cells": [
  {
   "cell_type": "code",
   "execution_count": 5,
   "id": "22898982",
   "metadata": {},
   "outputs": [],
   "source": [
    "from utils.datareader import CIFAR100Reader\n",
    "from deepmf.deepmf import deepmf\n",
    "from hiernmf2.hier_nmf import hier8_neat\n",
    "\n",
    "image_reader = CIFAR100Reader()\n",
    "image_reader.get_data_matrix()\n",
    "image_X_sm = image_reader.X_sm\n",
    "image_X_lg = image_reader.X_lg"
   ]
  },
  {
   "cell_type": "markdown",
   "id": "1435758e",
   "metadata": {},
   "source": [
    "## 1. visualize sample data"
   ]
  },
  {
   "cell_type": "code",
   "execution_count": 6,
   "id": "528f5177",
   "metadata": {},
   "outputs": [
    {
     "data": {
      "text/plain": [
       "array([[0.84313725, 0.14901961, 1.        , ..., 0.49411765, 0.75294118,\n",
       "        0.2       ],\n",
       "       [0.63529412, 0.36078431, 1.        , ..., 0.49803922, 0.75686275,\n",
       "        0.21960784],\n",
       "       [0.58431373, 0.75294118, 1.        , ..., 0.47843137, 0.74509804,\n",
       "        0.23137255],\n",
       "       ...,\n",
       "       [0.21960784, 0.19607843, 1.        , ..., 0.19607843, 0.51372549,\n",
       "        0.39607843],\n",
       "       [0.21568627, 0.20392157, 1.        , ..., 0.20392157, 0.52156863,\n",
       "        0.4       ],\n",
       "       [0.21568627, 0.19607843, 1.        , ..., 0.22352941, 0.50588235,\n",
       "        0.41568627]])"
      ]
     },
     "execution_count": 6,
     "metadata": {},
     "output_type": "execute_result"
    }
   ],
   "source": [
    "image_X_sm"
   ]
  },
  {
   "cell_type": "code",
   "execution_count": 12,
   "id": "58070a4d",
   "metadata": {},
   "outputs": [
    {
     "data": {
      "text/plain": [
       "'fine_label_names'"
      ]
     },
     "execution_count": 12,
     "metadata": {},
     "output_type": "execute_result"
    }
   ],
   "source": [
    "list(image_reader.meta_dict.keys())[0].decode()"
   ]
  },
  {
   "cell_type": "code",
   "execution_count": 8,
   "id": "e43fa70c",
   "metadata": {
    "scrolled": true
   },
   "outputs": [
    {
     "data": {
      "text/html": [
       "<div>\n",
       "<style scoped>\n",
       "    .dataframe tbody tr th:only-of-type {\n",
       "        vertical-align: middle;\n",
       "    }\n",
       "\n",
       "    .dataframe tbody tr th {\n",
       "        vertical-align: top;\n",
       "    }\n",
       "\n",
       "    .dataframe thead th {\n",
       "        text-align: right;\n",
       "    }\n",
       "</style>\n",
       "<table border=\"1\" class=\"dataframe\">\n",
       "  <thead>\n",
       "    <tr style=\"text-align: right;\">\n",
       "      <th></th>\n",
       "      <th>Unnamed: 0</th>\n",
       "      <th>fine_labels</th>\n",
       "      <th>coarse_label</th>\n",
       "    </tr>\n",
       "  </thead>\n",
       "  <tbody>\n",
       "    <tr>\n",
       "      <th>0</th>\n",
       "      <td>0</td>\n",
       "      <td>0</td>\n",
       "      <td>4</td>\n",
       "    </tr>\n",
       "    <tr>\n",
       "      <th>1</th>\n",
       "      <td>1</td>\n",
       "      <td>0</td>\n",
       "      <td>4</td>\n",
       "    </tr>\n",
       "    <tr>\n",
       "      <th>2</th>\n",
       "      <td>2</td>\n",
       "      <td>0</td>\n",
       "      <td>4</td>\n",
       "    </tr>\n",
       "    <tr>\n",
       "      <th>3</th>\n",
       "      <td>3</td>\n",
       "      <td>0</td>\n",
       "      <td>4</td>\n",
       "    </tr>\n",
       "    <tr>\n",
       "      <th>4</th>\n",
       "      <td>4</td>\n",
       "      <td>0</td>\n",
       "      <td>4</td>\n",
       "    </tr>\n",
       "    <tr>\n",
       "      <th>...</th>\n",
       "      <td>...</td>\n",
       "      <td>...</td>\n",
       "      <td>...</td>\n",
       "    </tr>\n",
       "    <tr>\n",
       "      <th>995</th>\n",
       "      <td>995</td>\n",
       "      <td>99</td>\n",
       "      <td>13</td>\n",
       "    </tr>\n",
       "    <tr>\n",
       "      <th>996</th>\n",
       "      <td>996</td>\n",
       "      <td>99</td>\n",
       "      <td>13</td>\n",
       "    </tr>\n",
       "    <tr>\n",
       "      <th>997</th>\n",
       "      <td>997</td>\n",
       "      <td>99</td>\n",
       "      <td>13</td>\n",
       "    </tr>\n",
       "    <tr>\n",
       "      <th>998</th>\n",
       "      <td>998</td>\n",
       "      <td>99</td>\n",
       "      <td>13</td>\n",
       "    </tr>\n",
       "    <tr>\n",
       "      <th>999</th>\n",
       "      <td>999</td>\n",
       "      <td>99</td>\n",
       "      <td>13</td>\n",
       "    </tr>\n",
       "  </tbody>\n",
       "</table>\n",
       "<p>1000 rows × 3 columns</p>\n",
       "</div>"
      ],
      "text/plain": [
       "     Unnamed: 0  fine_labels  coarse_label\n",
       "0             0            0             4\n",
       "1             1            0             4\n",
       "2             2            0             4\n",
       "3             3            0             4\n",
       "4             4            0             4\n",
       "..          ...          ...           ...\n",
       "995         995           99            13\n",
       "996         996           99            13\n",
       "997         997           99            13\n",
       "998         998           99            13\n",
       "999         999           99            13\n",
       "\n",
       "[1000 rows x 3 columns]"
      ]
     },
     "execution_count": 8,
     "metadata": {},
     "output_type": "execute_result"
    }
   ],
   "source": [
    "image_reader.label_sm"
   ]
  },
  {
   "cell_type": "code",
   "execution_count": null,
   "id": "3e4949cd",
   "metadata": {},
   "outputs": [],
   "source": []
  },
  {
   "cell_type": "code",
   "execution_count": null,
   "id": "46b602ea",
   "metadata": {},
   "outputs": [],
   "source": []
  }
 ],
 "metadata": {
  "kernelspec": {
   "display_name": "Python 3 (ipykernel)",
   "language": "python",
   "name": "python3"
  },
  "language_info": {
   "codemirror_mode": {
    "name": "ipython",
    "version": 3
   },
   "file_extension": ".py",
   "mimetype": "text/x-python",
   "name": "python",
   "nbconvert_exporter": "python",
   "pygments_lexer": "ipython3",
   "version": "3.9.7"
  }
 },
 "nbformat": 4,
 "nbformat_minor": 5
}
