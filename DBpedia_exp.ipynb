{
 "cells": [
  {
   "cell_type": "code",
   "execution_count": 1,
   "id": "09f7c429",
   "metadata": {},
   "outputs": [],
   "source": [
    "%load_ext autoreload\n",
    "%autoreload 2"
   ]
  },
  {
   "cell_type": "markdown",
   "id": "9b56c9eb",
   "metadata": {},
   "source": [
    "# DBpedia experiments"
   ]
  },
  {
   "cell_type": "code",
   "execution_count": 2,
   "id": "9cbeca82",
   "metadata": {},
   "outputs": [],
   "source": [
    "import heapq\n",
    "import numpy as np\n",
    "import pandas as pd\n",
    "import matplotlib.pyplot as plt\n",
    "\n",
    "from utils.datareader import DBpediaReader\n",
    "\n",
    "%matplotlib inline"
   ]
  },
  {
   "cell_type": "markdown",
   "id": "390a84bc",
   "metadata": {},
   "source": [
    "Set seed for reproducibility"
   ]
  },
  {
   "cell_type": "code",
   "execution_count": 3,
   "id": "46b12d3a",
   "metadata": {},
   "outputs": [],
   "source": [
    "np.random.seed(117)"
   ]
  },
  {
   "cell_type": "markdown",
   "id": "526da8b0",
   "metadata": {},
   "source": [
    "## Data description"
   ]
  },
  {
   "cell_type": "code",
   "execution_count": 4,
   "id": "93081cc4",
   "metadata": {},
   "outputs": [],
   "source": [
    "text_reader = DBpediaReader()\n",
    "data, X, mmcorp, corpdict = text_reader.get_sample_data()"
   ]
  },
  {
   "cell_type": "code",
   "execution_count": 5,
   "id": "6fcb0e5f",
   "metadata": {},
   "outputs": [
    {
     "data": {
      "text/html": [
       "<div>\n",
       "<style scoped>\n",
       "    .dataframe tbody tr th:only-of-type {\n",
       "        vertical-align: middle;\n",
       "    }\n",
       "\n",
       "    .dataframe tbody tr th {\n",
       "        vertical-align: top;\n",
       "    }\n",
       "\n",
       "    .dataframe thead th {\n",
       "        text-align: right;\n",
       "    }\n",
       "</style>\n",
       "<table border=\"1\" class=\"dataframe\">\n",
       "  <thead>\n",
       "    <tr style=\"text-align: right;\">\n",
       "      <th></th>\n",
       "      <th>Unnamed: 0</th>\n",
       "      <th>text</th>\n",
       "      <th>l1</th>\n",
       "      <th>l2</th>\n",
       "      <th>l3</th>\n",
       "      <th>wiki_name</th>\n",
       "      <th>word_count</th>\n",
       "    </tr>\n",
       "  </thead>\n",
       "  <tbody>\n",
       "    <tr>\n",
       "      <th>0</th>\n",
       "      <td>122474</td>\n",
       "      <td>Campbell Hospital is a National Health Service...</td>\n",
       "      <td>Place</td>\n",
       "      <td>Building</td>\n",
       "      <td>Hospital</td>\n",
       "      <td>Campbell_Hospital,_Portsoy</td>\n",
       "      <td>49</td>\n",
       "    </tr>\n",
       "    <tr>\n",
       "      <th>1</th>\n",
       "      <td>99246</td>\n",
       "      <td>The Favàritx Lighthouse is an active lighthous...</td>\n",
       "      <td>Place</td>\n",
       "      <td>Tower</td>\n",
       "      <td>Lighthouse</td>\n",
       "      <td>Favàritx_Lighthouse</td>\n",
       "      <td>13</td>\n",
       "    </tr>\n",
       "    <tr>\n",
       "      <th>2</th>\n",
       "      <td>135736</td>\n",
       "      <td>Château de la Petite Filolie is a château in D...</td>\n",
       "      <td>Place</td>\n",
       "      <td>Building</td>\n",
       "      <td>Castle</td>\n",
       "      <td>Château_de_la_Petite_Filolie</td>\n",
       "      <td>12</td>\n",
       "    </tr>\n",
       "    <tr>\n",
       "      <th>3</th>\n",
       "      <td>100462</td>\n",
       "      <td>Skyrush is an Intamin prototype Wing Coaster w...</td>\n",
       "      <td>Place</td>\n",
       "      <td>AmusementParkAttraction</td>\n",
       "      <td>RollerCoaster</td>\n",
       "      <td>Skyrush</td>\n",
       "      <td>209</td>\n",
       "    </tr>\n",
       "    <tr>\n",
       "      <th>4</th>\n",
       "      <td>105687</td>\n",
       "      <td>M-82 is a state trunkline in the Lower Peninsu...</td>\n",
       "      <td>Place</td>\n",
       "      <td>RouteOfTransportation</td>\n",
       "      <td>Road</td>\n",
       "      <td>M-82_(Michigan_highway)</td>\n",
       "      <td>102</td>\n",
       "    </tr>\n",
       "  </tbody>\n",
       "</table>\n",
       "</div>"
      ],
      "text/plain": [
       "   Unnamed: 0                                               text     l1  \\\n",
       "0      122474  Campbell Hospital is a National Health Service...  Place   \n",
       "1       99246  The Favàritx Lighthouse is an active lighthous...  Place   \n",
       "2      135736  Château de la Petite Filolie is a château in D...  Place   \n",
       "3      100462  Skyrush is an Intamin prototype Wing Coaster w...  Place   \n",
       "4      105687  M-82 is a state trunkline in the Lower Peninsu...  Place   \n",
       "\n",
       "                        l2             l3                     wiki_name  \\\n",
       "0                 Building       Hospital    Campbell_Hospital,_Portsoy   \n",
       "1                    Tower     Lighthouse           Favàritx_Lighthouse   \n",
       "2                 Building         Castle  Château_de_la_Petite_Filolie   \n",
       "3  AmusementParkAttraction  RollerCoaster                       Skyrush   \n",
       "4    RouteOfTransportation           Road       M-82_(Michigan_highway)   \n",
       "\n",
       "   word_count  \n",
       "0          49  \n",
       "1          13  \n",
       "2          12  \n",
       "3         209  \n",
       "4         102  "
      ]
     },
     "execution_count": 5,
     "metadata": {},
     "output_type": "execute_result"
    }
   ],
   "source": [
    "data.head()"
   ]
  },
  {
   "cell_type": "markdown",
   "id": "299cd63e",
   "metadata": {},
   "source": [
    "### Check data by label counts\n",
    "Level-1 labels"
   ]
  },
  {
   "cell_type": "code",
   "execution_count": 6,
   "id": "597e7965",
   "metadata": {},
   "outputs": [
    {
     "name": "stdout",
     "output_type": "stream",
     "text": [
      "Number of Level-1 labels: 2\n"
     ]
    },
    {
     "data": {
      "text/html": [
       "<div>\n",
       "<style scoped>\n",
       "    .dataframe tbody tr th:only-of-type {\n",
       "        vertical-align: middle;\n",
       "    }\n",
       "\n",
       "    .dataframe tbody tr th {\n",
       "        vertical-align: top;\n",
       "    }\n",
       "\n",
       "    .dataframe thead th {\n",
       "        text-align: right;\n",
       "    }\n",
       "</style>\n",
       "<table border=\"1\" class=\"dataframe\">\n",
       "  <thead>\n",
       "    <tr style=\"text-align: right;\">\n",
       "      <th></th>\n",
       "      <th>counts</th>\n",
       "    </tr>\n",
       "    <tr>\n",
       "      <th>l1</th>\n",
       "      <th></th>\n",
       "    </tr>\n",
       "  </thead>\n",
       "  <tbody>\n",
       "    <tr>\n",
       "      <th>Agent</th>\n",
       "      <td>667</td>\n",
       "    </tr>\n",
       "    <tr>\n",
       "      <th>Place</th>\n",
       "      <td>333</td>\n",
       "    </tr>\n",
       "  </tbody>\n",
       "</table>\n",
       "</div>"
      ],
      "text/plain": [
       "       counts\n",
       "l1           \n",
       "Agent     667\n",
       "Place     333"
      ]
     },
     "execution_count": 6,
     "metadata": {},
     "output_type": "execute_result"
    }
   ],
   "source": [
    "print(f\"Number of Level-1 labels: {len(data['l1'].unique())}\")\n",
    "data.value_counts(['l1']).to_frame('counts')"
   ]
  },
  {
   "cell_type": "code",
   "execution_count": 7,
   "id": "43b34048",
   "metadata": {},
   "outputs": [
    {
     "data": {
      "text/plain": [
       "<AxesSubplot:>"
      ]
     },
     "execution_count": 7,
     "metadata": {},
     "output_type": "execute_result"
    },
    {
     "data": {
      "image/png": "[encoded data removed]",
      "text/plain": [
       "<Figure size 864x576 with 1 Axes>"
      ]
     },
     "metadata": {
      "needs_background": "light"
     },
     "output_type": "display_data"
    }
   ],
   "source": [
    "plt.figure(figsize=(12,8))\n",
    "data['l1'].hist()"
   ]
  },
  {
   "cell_type": "markdown",
   "id": "0a06c0be",
   "metadata": {},
   "source": [
    "Level-2 labels"
   ]
  },
  {
   "cell_type": "code",
   "execution_count": 8,
   "id": "307fccca",
   "metadata": {
    "scrolled": false
   },
   "outputs": [
    {
     "name": "stdout",
     "output_type": "stream",
     "text": [
      "Number of Level-2 labels: 45\n"
     ]
    },
    {
     "data": {
      "text/html": [
       "<div>\n",
       "<style scoped>\n",
       "    .dataframe tbody tr th:only-of-type {\n",
       "        vertical-align: middle;\n",
       "    }\n",
       "\n",
       "    .dataframe tbody tr th {\n",
       "        vertical-align: top;\n",
       "    }\n",
       "\n",
       "    .dataframe thead th {\n",
       "        text-align: right;\n",
       "    }\n",
       "</style>\n",
       "<table border=\"1\" class=\"dataframe\">\n",
       "  <thead>\n",
       "    <tr style=\"text-align: right;\">\n",
       "      <th></th>\n",
       "      <th></th>\n",
       "      <th>counts</th>\n",
       "    </tr>\n",
       "    <tr>\n",
       "      <th>l1</th>\n",
       "      <th>l2</th>\n",
       "      <th></th>\n",
       "    </tr>\n",
       "  </thead>\n",
       "  <tbody>\n",
       "    <tr>\n",
       "      <th rowspan=\"29\" valign=\"top\">Agent</th>\n",
       "      <th>Actor</th>\n",
       "      <td>4</td>\n",
       "    </tr>\n",
       "    <tr>\n",
       "      <th>Artist</th>\n",
       "      <td>26</td>\n",
       "    </tr>\n",
       "    <tr>\n",
       "      <th>Athlete</th>\n",
       "      <td>179</td>\n",
       "    </tr>\n",
       "    <tr>\n",
       "      <th>Boxer</th>\n",
       "      <td>2</td>\n",
       "    </tr>\n",
       "    <tr>\n",
       "      <th>BritishRoyalty</th>\n",
       "      <td>2</td>\n",
       "    </tr>\n",
       "    <tr>\n",
       "      <th>Broadcaster</th>\n",
       "      <td>29</td>\n",
       "    </tr>\n",
       "    <tr>\n",
       "      <th>Cleric</th>\n",
       "      <td>28</td>\n",
       "    </tr>\n",
       "    <tr>\n",
       "      <th>Coach</th>\n",
       "      <td>7</td>\n",
       "    </tr>\n",
       "    <tr>\n",
       "      <th>ComicsCharacter</th>\n",
       "      <td>1</td>\n",
       "    </tr>\n",
       "    <tr>\n",
       "      <th>Company</th>\n",
       "      <td>44</td>\n",
       "    </tr>\n",
       "    <tr>\n",
       "      <th>EducationalInstitution</th>\n",
       "      <td>26</td>\n",
       "    </tr>\n",
       "    <tr>\n",
       "      <th>FictionalCharacter</th>\n",
       "      <td>8</td>\n",
       "    </tr>\n",
       "    <tr>\n",
       "      <th>GridironFootballPlayer</th>\n",
       "      <td>13</td>\n",
       "    </tr>\n",
       "    <tr>\n",
       "      <th>Group</th>\n",
       "      <td>7</td>\n",
       "    </tr>\n",
       "    <tr>\n",
       "      <th>MotorcycleRider</th>\n",
       "      <td>3</td>\n",
       "    </tr>\n",
       "    <tr>\n",
       "      <th>Organisation</th>\n",
       "      <td>39</td>\n",
       "    </tr>\n",
       "    <tr>\n",
       "      <th>OrganisationMember</th>\n",
       "      <td>2</td>\n",
       "    </tr>\n",
       "    <tr>\n",
       "      <th>Person</th>\n",
       "      <td>102</td>\n",
       "    </tr>\n",
       "    <tr>\n",
       "      <th>Politician</th>\n",
       "      <td>46</td>\n",
       "    </tr>\n",
       "    <tr>\n",
       "      <th>Presenter</th>\n",
       "      <td>1</td>\n",
       "    </tr>\n",
       "    <tr>\n",
       "      <th>RacingDriver</th>\n",
       "      <td>5</td>\n",
       "    </tr>\n",
       "    <tr>\n",
       "      <th>Scientist</th>\n",
       "      <td>2</td>\n",
       "    </tr>\n",
       "    <tr>\n",
       "      <th>SportsLeague</th>\n",
       "      <td>9</td>\n",
       "    </tr>\n",
       "    <tr>\n",
       "      <th>SportsManager</th>\n",
       "      <td>13</td>\n",
       "    </tr>\n",
       "    <tr>\n",
       "      <th>SportsTeam</th>\n",
       "      <td>32</td>\n",
       "    </tr>\n",
       "    <tr>\n",
       "      <th>VolleyballPlayer</th>\n",
       "      <td>3</td>\n",
       "    </tr>\n",
       "    <tr>\n",
       "      <th>WinterSportPlayer</th>\n",
       "      <td>27</td>\n",
       "    </tr>\n",
       "    <tr>\n",
       "      <th>Wrestler</th>\n",
       "      <td>1</td>\n",
       "    </tr>\n",
       "    <tr>\n",
       "      <th>Writer</th>\n",
       "      <td>6</td>\n",
       "    </tr>\n",
       "    <tr>\n",
       "      <th rowspan=\"16\" valign=\"top\">Place</th>\n",
       "      <th>AmusementParkAttraction</th>\n",
       "      <td>4</td>\n",
       "    </tr>\n",
       "    <tr>\n",
       "      <th>BodyOfWater</th>\n",
       "      <td>11</td>\n",
       "    </tr>\n",
       "    <tr>\n",
       "      <th>Building</th>\n",
       "      <td>69</td>\n",
       "    </tr>\n",
       "    <tr>\n",
       "      <th>CelestialBody</th>\n",
       "      <td>19</td>\n",
       "    </tr>\n",
       "    <tr>\n",
       "      <th>ClericalAdministrativeRegion</th>\n",
       "      <td>14</td>\n",
       "    </tr>\n",
       "    <tr>\n",
       "      <th>Infrastructure</th>\n",
       "      <td>22</td>\n",
       "    </tr>\n",
       "    <tr>\n",
       "      <th>NaturalPlace</th>\n",
       "      <td>47</td>\n",
       "    </tr>\n",
       "    <tr>\n",
       "      <th>RaceTrack</th>\n",
       "      <td>2</td>\n",
       "    </tr>\n",
       "    <tr>\n",
       "      <th>RouteOfTransportation</th>\n",
       "      <td>43</td>\n",
       "    </tr>\n",
       "    <tr>\n",
       "      <th>Satellite</th>\n",
       "      <td>13</td>\n",
       "    </tr>\n",
       "    <tr>\n",
       "      <th>Settlement</th>\n",
       "      <td>24</td>\n",
       "    </tr>\n",
       "    <tr>\n",
       "      <th>SportFacility</th>\n",
       "      <td>18</td>\n",
       "    </tr>\n",
       "    <tr>\n",
       "      <th>Station</th>\n",
       "      <td>15</td>\n",
       "    </tr>\n",
       "    <tr>\n",
       "      <th>Stream</th>\n",
       "      <td>18</td>\n",
       "    </tr>\n",
       "    <tr>\n",
       "      <th>Tower</th>\n",
       "      <td>13</td>\n",
       "    </tr>\n",
       "    <tr>\n",
       "      <th>Venue</th>\n",
       "      <td>1</td>\n",
       "    </tr>\n",
       "  </tbody>\n",
       "</table>\n",
       "</div>"
      ],
      "text/plain": [
       "                                    counts\n",
       "l1    l2                                  \n",
       "Agent Actor                              4\n",
       "      Artist                            26\n",
       "      Athlete                          179\n",
       "      Boxer                              2\n",
       "      BritishRoyalty                     2\n",
       "      Broadcaster                       29\n",
       "      Cleric                            28\n",
       "      Coach                              7\n",
       "      ComicsCharacter                    1\n",
       "      Company                           44\n",
       "      EducationalInstitution            26\n",
       "      FictionalCharacter                 8\n",
       "      GridironFootballPlayer            13\n",
       "      Group                              7\n",
       "      MotorcycleRider                    3\n",
       "      Organisation                      39\n",
       "      OrganisationMember                 2\n",
       "      Person                           102\n",
       "      Politician                        46\n",
       "      Presenter                          1\n",
       "      RacingDriver                       5\n",
       "      Scientist                          2\n",
       "      SportsLeague                       9\n",
       "      SportsManager                     13\n",
       "      SportsTeam                        32\n",
       "      VolleyballPlayer                   3\n",
       "      WinterSportPlayer                 27\n",
       "      Wrestler                           1\n",
       "      Writer                             6\n",
       "Place AmusementParkAttraction            4\n",
       "      BodyOfWater                       11\n",
       "      Building                          69\n",
       "      CelestialBody                     19\n",
       "      ClericalAdministrativeRegion      14\n",
       "      Infrastructure                    22\n",
       "      NaturalPlace                      47\n",
       "      RaceTrack                          2\n",
       "      RouteOfTransportation             43\n",
       "      Satellite                         13\n",
       "      Settlement                        24\n",
       "      SportFacility                     18\n",
       "      Station                           15\n",
       "      Stream                            18\n",
       "      Tower                             13\n",
       "      Venue                              1"
      ]
     },
     "execution_count": 8,
     "metadata": {},
     "output_type": "execute_result"
    }
   ],
   "source": [
    "print(f\"Number of Level-2 labels: {len(data['l2'].unique())}\")\n",
    "data.value_counts(['l1', 'l2']).to_frame('counts').sort_index()"
   ]
  },
  {
   "cell_type": "code",
   "execution_count": 9,
   "id": "767eff92",
   "metadata": {},
   "outputs": [
    {
     "data": {
      "text/plain": [
       "<AxesSubplot:xlabel='l1,l2'>"
      ]
     },
     "execution_count": 9,
     "metadata": {},
     "output_type": "execute_result"
    },
    {
     "data": {
      "image/png": "[encoded data removed]",
      "text/plain": [
       "<Figure size 864x576 with 1 Axes>"
      ]
     },
     "metadata": {
      "needs_background": "light"
     },
     "output_type": "display_data"
    }
   ],
   "source": [
    "plt.figure(figsize=(12,8))\n",
    "data[['l1', 'l2']].value_counts().plot(kind=\"bar\")"
   ]
  },
  {
   "cell_type": "markdown",
   "id": "7b6efb2a",
   "metadata": {},
   "source": [
    "Level-3 labels"
   ]
  },
  {
   "cell_type": "code",
   "execution_count": 10,
   "id": "e2847c4f",
   "metadata": {},
   "outputs": [
    {
     "name": "stdout",
     "output_type": "stream",
     "text": [
      "Number of Level-3 labels: 149\n"
     ]
    },
    {
     "data": {
      "text/html": [
       "<div>\n",
       "<style scoped>\n",
       "    .dataframe tbody tr th:only-of-type {\n",
       "        vertical-align: middle;\n",
       "    }\n",
       "\n",
       "    .dataframe tbody tr th {\n",
       "        vertical-align: top;\n",
       "    }\n",
       "\n",
       "    .dataframe thead th {\n",
       "        text-align: right;\n",
       "    }\n",
       "</style>\n",
       "<table border=\"1\" class=\"dataframe\">\n",
       "  <thead>\n",
       "    <tr style=\"text-align: right;\">\n",
       "      <th></th>\n",
       "      <th></th>\n",
       "      <th></th>\n",
       "      <th>counts</th>\n",
       "    </tr>\n",
       "    <tr>\n",
       "      <th>l1</th>\n",
       "      <th>l2</th>\n",
       "      <th>l3</th>\n",
       "      <th></th>\n",
       "    </tr>\n",
       "  </thead>\n",
       "  <tbody>\n",
       "    <tr>\n",
       "      <th rowspan=\"5\" valign=\"top\">Agent</th>\n",
       "      <th>Actor</th>\n",
       "      <th>AdultActor</th>\n",
       "      <td>4</td>\n",
       "    </tr>\n",
       "    <tr>\n",
       "      <th rowspan=\"4\" valign=\"top\">Artist</th>\n",
       "      <th>Comedian</th>\n",
       "      <td>3</td>\n",
       "    </tr>\n",
       "    <tr>\n",
       "      <th>ComicsCreator</th>\n",
       "      <td>12</td>\n",
       "    </tr>\n",
       "    <tr>\n",
       "      <th>FashionDesigner</th>\n",
       "      <td>3</td>\n",
       "    </tr>\n",
       "    <tr>\n",
       "      <th>Painter</th>\n",
       "      <td>7</td>\n",
       "    </tr>\n",
       "    <tr>\n",
       "      <th>...</th>\n",
       "      <th>...</th>\n",
       "      <th>...</th>\n",
       "      <td>...</td>\n",
       "    </tr>\n",
       "    <tr>\n",
       "      <th rowspan=\"5\" valign=\"top\">Place</th>\n",
       "      <th>Station</th>\n",
       "      <th>RailwayStation</th>\n",
       "      <td>15</td>\n",
       "    </tr>\n",
       "    <tr>\n",
       "      <th rowspan=\"2\" valign=\"top\">Stream</th>\n",
       "      <th>Canal</th>\n",
       "      <td>1</td>\n",
       "    </tr>\n",
       "    <tr>\n",
       "      <th>River</th>\n",
       "      <td>17</td>\n",
       "    </tr>\n",
       "    <tr>\n",
       "      <th>Tower</th>\n",
       "      <th>Lighthouse</th>\n",
       "      <td>13</td>\n",
       "    </tr>\n",
       "    <tr>\n",
       "      <th>Venue</th>\n",
       "      <th>Theatre</th>\n",
       "      <td>1</td>\n",
       "    </tr>\n",
       "  </tbody>\n",
       "</table>\n",
       "<p>149 rows × 1 columns</p>\n",
       "</div>"
      ],
      "text/plain": [
       "                               counts\n",
       "l1    l2      l3                     \n",
       "Agent Actor   AdultActor            4\n",
       "      Artist  Comedian              3\n",
       "              ComicsCreator        12\n",
       "              FashionDesigner       3\n",
       "              Painter               7\n",
       "...                               ...\n",
       "Place Station RailwayStation       15\n",
       "      Stream  Canal                 1\n",
       "              River                17\n",
       "      Tower   Lighthouse           13\n",
       "      Venue   Theatre               1\n",
       "\n",
       "[149 rows x 1 columns]"
      ]
     },
     "execution_count": 10,
     "metadata": {},
     "output_type": "execute_result"
    }
   ],
   "source": [
    "print(f\"Number of Level-3 labels: {len(data['l3'].unique())}\")\n",
    "data.value_counts(['l1', 'l2', 'l3']).to_frame('counts').sort_index()"
   ]
  },
  {
   "cell_type": "code",
   "execution_count": 11,
   "id": "427ad00e",
   "metadata": {},
   "outputs": [
    {
     "data": {
      "text/plain": [
       "Text(0, 0.5, 'Number of labels')"
      ]
     },
     "execution_count": 11,
     "metadata": {},
     "output_type": "execute_result"
    },
    {
     "data": {
      "image/png": "[encoded data removed]",
      "text/plain": [
       "<Figure size 864x576 with 1 Axes>"
      ]
     },
     "metadata": {
      "needs_background": "light"
     },
     "output_type": "display_data"
    }
   ],
   "source": [
    "plt.figure(figsize=(12,8))\n",
    "data.value_counts(['l1', 'l2', 'l3']).to_frame('counts')['counts'].hist(bins=20)\n",
    "plt.xlabel('Number of documents')\n",
    "plt.ylabel('Number of labels')"
   ]
  },
  {
   "cell_type": "markdown",
   "id": "12c9ad3c",
   "metadata": {},
   "source": [
    "### Helper functions for getting top keywords"
   ]
  },
  {
   "cell_type": "code",
   "execution_count": 12,
   "id": "323c393b",
   "metadata": {},
   "outputs": [],
   "source": [
    "def get_topics(X, labels, cdict, topk=10):\n",
    "    m, _   = X.shape\n",
    "    ulabs  = np.unique(labels)\n",
    "    topics = []\n",
    "    \n",
    "    for idx, lab in enumerate(ulabs):\n",
    "        x_topic = np.mean(X[:, labels == lab], axis=1)\n",
    "        x_topic = np.squeeze(np.asarray(x_topic))\n",
    "        topk_ix = heapq.nlargest(topk, range(m), x_topic.take)\n",
    "        w_top   = [cdict[ix] for ix in topk_ix]\n",
    "        topics.append(w_top)\n",
    "        \n",
    "    return topics"
   ]
  },
  {
   "cell_type": "code",
   "execution_count": 13,
   "id": "84768276",
   "metadata": {},
   "outputs": [],
   "source": [
    "def get_labels(datadf, hlabs):\n",
    "    numdocs = len(datadf)\n",
    "    nhiers  = len(hlabs)\n",
    "    \n",
    "    labels  = np.zeros((numdocs, nhiers))\n",
    "    lnames  = []\n",
    "    \n",
    "    for idx in range(nhiers):\n",
    "        ulabs = datadf[hlabs[idx]].unique()\n",
    "        lnames.append(ulabs.tolist())\n",
    "        \n",
    "        for (lidx, lab) in enumerate(ulabs):\n",
    "            labels[datadf[hlabs[idx]] == lab, idx] = lidx\n",
    "            \n",
    "    return labels, lnames"
   ]
  },
  {
   "cell_type": "code",
   "execution_count": 14,
   "id": "14d35a6e",
   "metadata": {},
   "outputs": [],
   "source": [
    "hierlabels = ['l1', 'l2', 'l3']\n",
    "labels, lnames = get_labels(data, hierlabels)"
   ]
  },
  {
   "cell_type": "code",
   "execution_count": 15,
   "id": "430d80a3",
   "metadata": {},
   "outputs": [],
   "source": [
    "topics = []\n",
    "for idx in range(labels.shape[1]):\n",
    "    ltopics = get_topics(X, labels[:,idx], corpdict)\n",
    "    topics.append(ltopics)"
   ]
  },
  {
   "cell_type": "markdown",
   "id": "644b3d84",
   "metadata": {},
   "source": [
    "### Print some random topics"
   ]
  },
  {
   "cell_type": "code",
   "execution_count": 16,
   "id": "0ffd5915",
   "metadata": {
    "scrolled": false
   },
   "outputs": [
    {
     "name": "stdout",
     "output_type": "stream",
     "text": [
      "Number of labels in Level-0: 2\n",
      "2 topics from Level-0\n",
      "Top keywords for topic: Agent (667 documents)\n",
      "['play', 'born', 'footbal', 'team', 'player', 'leagu', 'club', 'univers', 'world', 'school']\n",
      "Top keywords for topic: Place (333 documents)\n",
      "['river', 'mountain', 'line', 'station', 'bridg', 'church', 'locat', 'lake', 'dam', 'km']\n",
      "\n",
      "\n",
      "Number of labels in Level-1: 45\n",
      "5 topics from Level-1\n",
      "Top keywords for topic: ComicsCharacter (1 documents)\n",
      "['charact', 'anim', 'seri', 'soul', 'adapt', 'review', 'poll', 'protagonist', 'voic', 'japanes']\n",
      "Top keywords for topic: Wrestler (1 documents)\n",
      "['mongolia', 'wrestler', 'enter', 'involv', 'japan', 'highest', 'rank', 'sport', 'top', 'forc']\n",
      "Top keywords for topic: Organisation (39 documents)\n",
      "['union', 'parti', 'congress', 'council', 'navi', 'trade', 'air', 'elect', 'railway', 'unit']\n",
      "Top keywords for topic: Company (44 documents)\n",
      "['label', 'record', 'bank', 'publish', 'oper', 'airlin', 'compani', 'music', 'breweri', 'firm']\n",
      "Top keywords for topic: SportsLeague (9 documents)\n",
      "['leagu', 'divis', 'season', 'region', 'footbal', 'competit', 'soccer', 'korea', 'canberra', 'team']\n",
      "\n",
      "\n",
      "Number of labels in Level-2: 149\n",
      "5 topics from Level-2\n",
      "Top keywords for topic: Glacier (2 documents)\n",
      "['glacier', 'ft', 'section', 'flow', 'mount', 'terminu', 'lower', 'upper', 'north', 'mi']\n",
      "Top keywords for topic: Cardinal (1 documents)\n",
      "['thai', 'cardin', 'bangkok', 'archbishop', 'michael', 'elev', 'roman', 'cathol', 'church', 'januari']\n",
      "Top keywords for topic: BaseballPlayer (10 documents)\n",
      "['leagu', 'basebal', 'pitch', 'major', 'sox', 'season', 'game', 'jay', 'play', 'red']\n",
      "Top keywords for topic: ShoppingMall (4 documents)\n",
      "['mall', 'outlet', 'shop', 'capit', 'robinson', 'birch', 'premium', 'centr', 'washington', 'commerci']\n",
      "Top keywords for topic: CollegeCoach (7 documents)\n",
      "['coach', 'footbal', 'head', 'univers', 'colleg', 'missouri', 'brown', 'record', 'mexico', 'athlet']\n",
      "\n",
      "\n"
     ]
    }
   ],
   "source": [
    "for lvl in range(labels.shape[1]):\n",
    "    nlabs = len(lnames[lvl])\n",
    "    print(f'Number of labels in Level-{lvl}: {nlabs}')\n",
    "    nchoices = np.minimum(5, nlabs)\n",
    "    labchoices = np.random.choice(range(nlabs), nchoices, replace=False)\n",
    "    \n",
    "    print(f\"{nchoices} topics from Level-{lvl}\")\n",
    "    for lab in labchoices:\n",
    "        print(f\"Top keywords for topic: {lnames[lvl][lab]} ({sum(labels[:,lvl] == lab)} documents)\")\n",
    "        print(topics[lvl][lab])\n",
    "        \n",
    "    print(\"\\n\")"
   ]
  }
 ],
 "metadata": {
  "kernelspec": {
   "display_name": "Python 3 (ipykernel)",
   "language": "python",
   "name": "python3"
  },
  "language_info": {
   "codemirror_mode": {
    "name": "ipython",
    "version": 3
   },
   "file_extension": ".py",
   "mimetype": "text/x-python",
   "name": "python",
   "nbconvert_exporter": "python",
   "pygments_lexer": "ipython3",
   "version": "3.9.7"
  }
 },
 "nbformat": 4,
 "nbformat_minor": 5
}
