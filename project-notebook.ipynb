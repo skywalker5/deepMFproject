{
 "cells": [
  {
   "cell_type": "code",
   "execution_count": 3,
   "id": "87313497",
   "metadata": {},
   "outputs": [],
   "source": [
    "from utils.datareader import DBpediaReader\n",
    "from utils.datareader import CIFAR100Reader"
   ]
  },
  {
   "cell_type": "code",
   "execution_count": 4,
   "id": "0a8381b3",
   "metadata": {},
   "outputs": [],
   "source": [
    "text_reader = DBpediaReader()\n",
    "image_reader = CIFAR100Reader()\n",
    "\n",
    "data_df, test_df, train_df, val_df = text_reader.read_data()\n",
    "meta_dict, train_dict, test_dict = image_reader.read_data()"
   ]
  },
  {
   "cell_type": "code",
   "execution_count": 5,
   "id": "38e59282",
   "metadata": {},
   "outputs": [
    {
     "data": {
      "text/plain": [
       "text          The 1994 Mindoro earthquake occurred on Novemb...\n",
       "l1                                                        Event\n",
       "l2                                                 NaturalEvent\n",
       "l3                                                   Earthquake\n",
       "wiki_name                               1994_Mindoro_earthquake\n",
       "word_count                                                   59\n",
       "Name: 0, dtype: object"
      ]
     },
     "execution_count": 5,
     "metadata": {},
     "output_type": "execute_result"
    }
   ],
   "source": [
    "data_df.iloc[0]"
   ]
  },
  {
   "cell_type": "code",
   "execution_count": 6,
   "id": "128f4696",
   "metadata": {},
   "outputs": [],
   "source": [
    "import utils.doctovec as doctovec"
   ]
  },
  {
   "cell_type": "code",
   "execution_count": 7,
   "id": "0bec33ab",
   "metadata": {},
   "outputs": [
    {
     "ename": "AttributeError",
     "evalue": "module 'itertools' has no attribute 'ifilter'",
     "output_type": "error",
     "traceback": [
      "\u001b[0;31m---------------------------------------------------------------------------\u001b[0m",
      "\u001b[0;31mAttributeError\u001b[0m                            Traceback (most recent call last)",
      "\u001b[0;32m/var/folders/qq/s85xrzrs2dd4xwpdqd4cw7hr0000gn/T/ipykernel_5877/26627815.py\u001b[0m in \u001b[0;36m<module>\u001b[0;34m\u001b[0m\n\u001b[0;32m----> 1\u001b[0;31m \u001b[0ma\u001b[0m \u001b[0;34m=\u001b[0m \u001b[0mdoctovec\u001b[0m\u001b[0;34m.\u001b[0m\u001b[0mvectorize\u001b[0m\u001b[0;34m(\u001b[0m\u001b[0mdata_df\u001b[0m\u001b[0;34m.\u001b[0m\u001b[0mtext\u001b[0m\u001b[0;34m.\u001b[0m\u001b[0miloc\u001b[0m\u001b[0;34m[\u001b[0m\u001b[0;36m0\u001b[0m\u001b[0;34m]\u001b[0m\u001b[0;34m)\u001b[0m\u001b[0;34m\u001b[0m\u001b[0;34m\u001b[0m\u001b[0m\n\u001b[0m",
      "\u001b[0;32m~/Documents/dj/course/cse8803/utils/doctovec.py\u001b[0m in \u001b[0;36mvectorize\u001b[0;34m(doc)\u001b[0m\n\u001b[1;32m    165\u001b[0m     \u001b[0mword_list\u001b[0m \u001b[0;34m=\u001b[0m \u001b[0mword_tokenize\u001b[0m\u001b[0;34m(\u001b[0m\u001b[0mdoc\u001b[0m\u001b[0;34m)\u001b[0m\u001b[0;34m\u001b[0m\u001b[0;34m\u001b[0m\u001b[0m\n\u001b[1;32m    166\u001b[0m     \u001b[0mcleaned_words\u001b[0m \u001b[0;34m=\u001b[0m \u001b[0;34m[\u001b[0m\u001b[0mclean_word\u001b[0m\u001b[0;34m(\u001b[0m\u001b[0mword\u001b[0m\u001b[0;34m)\u001b[0m \u001b[0;32mfor\u001b[0m \u001b[0mword\u001b[0m \u001b[0;32min\u001b[0m \u001b[0mword_list\u001b[0m\u001b[0;34m]\u001b[0m\u001b[0;34m\u001b[0m\u001b[0;34m\u001b[0m\u001b[0m\n\u001b[0;32m--> 167\u001b[0;31m     \u001b[0mfiltered_words\u001b[0m \u001b[0;34m=\u001b[0m \u001b[0mit\u001b[0m\u001b[0;34m.\u001b[0m\u001b[0mifilter\u001b[0m\u001b[0;34m(\u001b[0m\u001b[0mword_is_not_junk\u001b[0m\u001b[0;34m,\u001b[0m \u001b[0mcleaned_words\u001b[0m\u001b[0;34m)\u001b[0m\u001b[0;34m\u001b[0m\u001b[0;34m\u001b[0m\u001b[0m\n\u001b[0m\u001b[1;32m    168\u001b[0m     \u001b[0;32mreturn\u001b[0m \u001b[0;34m[\u001b[0m\u001b[0mstem_word\u001b[0m\u001b[0;34m(\u001b[0m\u001b[0mword\u001b[0m\u001b[0;34m)\u001b[0m \u001b[0;32mfor\u001b[0m \u001b[0mword\u001b[0m \u001b[0;32min\u001b[0m \u001b[0mfiltered_words\u001b[0m\u001b[0;34m]\u001b[0m\u001b[0;34m\u001b[0m\u001b[0;34m\u001b[0m\u001b[0m\n\u001b[1;32m    169\u001b[0m \u001b[0;34m\u001b[0m\u001b[0m\n",
      "\u001b[0;31mAttributeError\u001b[0m: module 'itertools' has no attribute 'ifilter'"
     ]
    }
   ],
   "source": [
    "a = doctovec.vectorize(data_df.text.iloc[0])"
   ]
  },
  {
   "cell_type": "code",
   "execution_count": 8,
   "id": "f84c4331",
   "metadata": {},
   "outputs": [
    {
     "data": {
      "text/html": [
       "<div>\n",
       "<style scoped>\n",
       "    .dataframe tbody tr th:only-of-type {\n",
       "        vertical-align: middle;\n",
       "    }\n",
       "\n",
       "    .dataframe tbody tr th {\n",
       "        vertical-align: top;\n",
       "    }\n",
       "\n",
       "    .dataframe thead th {\n",
       "        text-align: right;\n",
       "    }\n",
       "</style>\n",
       "<table border=\"1\" class=\"dataframe\">\n",
       "  <thead>\n",
       "    <tr style=\"text-align: right;\">\n",
       "      <th></th>\n",
       "      <th>text</th>\n",
       "      <th>l1</th>\n",
       "      <th>l2</th>\n",
       "      <th>l3</th>\n",
       "      <th>wiki_name</th>\n",
       "      <th>word_count</th>\n",
       "    </tr>\n",
       "  </thead>\n",
       "  <tbody>\n",
       "    <tr>\n",
       "      <th>0</th>\n",
       "      <td>The 1994 Mindoro earthquake occurred on Novemb...</td>\n",
       "      <td>Event</td>\n",
       "      <td>NaturalEvent</td>\n",
       "      <td>Earthquake</td>\n",
       "      <td>1994_Mindoro_earthquake</td>\n",
       "      <td>59</td>\n",
       "    </tr>\n",
       "    <tr>\n",
       "      <th>1</th>\n",
       "      <td>The 1917 Bali earthquake occurred at 06:50 loc...</td>\n",
       "      <td>Event</td>\n",
       "      <td>NaturalEvent</td>\n",
       "      <td>Earthquake</td>\n",
       "      <td>1917_Bali_earthquake</td>\n",
       "      <td>68</td>\n",
       "    </tr>\n",
       "    <tr>\n",
       "      <th>2</th>\n",
       "      <td>The 1941 Colima earthquake occurred on April 1...</td>\n",
       "      <td>Event</td>\n",
       "      <td>NaturalEvent</td>\n",
       "      <td>Earthquake</td>\n",
       "      <td>1941_Colima_earthquake</td>\n",
       "      <td>194</td>\n",
       "    </tr>\n",
       "    <tr>\n",
       "      <th>3</th>\n",
       "      <td>The 1983 Coalinga earthquake occurred on May 2...</td>\n",
       "      <td>Event</td>\n",
       "      <td>NaturalEvent</td>\n",
       "      <td>Earthquake</td>\n",
       "      <td>1983_Coalinga_earthquake</td>\n",
       "      <td>98</td>\n",
       "    </tr>\n",
       "    <tr>\n",
       "      <th>4</th>\n",
       "      <td>The 2013 Bushehr earthquake occurred with a mo...</td>\n",
       "      <td>Event</td>\n",
       "      <td>NaturalEvent</td>\n",
       "      <td>Earthquake</td>\n",
       "      <td>2013_Bushehr_earthquake</td>\n",
       "      <td>61</td>\n",
       "    </tr>\n",
       "    <tr>\n",
       "      <th>...</th>\n",
       "      <td>...</td>\n",
       "      <td>...</td>\n",
       "      <td>...</td>\n",
       "      <td>...</td>\n",
       "      <td>...</td>\n",
       "      <td>...</td>\n",
       "    </tr>\n",
       "    <tr>\n",
       "      <th>342776</th>\n",
       "      <td>WCSH is the NBC-affiliated television station ...</td>\n",
       "      <td>Agent</td>\n",
       "      <td>Broadcaster</td>\n",
       "      <td>TelevisionStation</td>\n",
       "      <td>WCSH</td>\n",
       "      <td>198</td>\n",
       "    </tr>\n",
       "    <tr>\n",
       "      <th>342777</th>\n",
       "      <td>Al Jazeera America (AJAM) was an American basi...</td>\n",
       "      <td>Agent</td>\n",
       "      <td>Broadcaster</td>\n",
       "      <td>TelevisionStation</td>\n",
       "      <td>Al_Jazeera_America</td>\n",
       "      <td>226</td>\n",
       "    </tr>\n",
       "    <tr>\n",
       "      <th>342778</th>\n",
       "      <td>CJOH-DT, VHF channel 13, is a CTV owned-and-op...</td>\n",
       "      <td>Agent</td>\n",
       "      <td>Broadcaster</td>\n",
       "      <td>TelevisionStation</td>\n",
       "      <td>CJOH-DT</td>\n",
       "      <td>234</td>\n",
       "    </tr>\n",
       "    <tr>\n",
       "      <th>342779</th>\n",
       "      <td>NTTV (North Texas Television) is a student tel...</td>\n",
       "      <td>Agent</td>\n",
       "      <td>Broadcaster</td>\n",
       "      <td>TelevisionStation</td>\n",
       "      <td>NTTV</td>\n",
       "      <td>126</td>\n",
       "    </tr>\n",
       "    <tr>\n",
       "      <th>342780</th>\n",
       "      <td>WVIZ (Digital channel 26, PSIP 25.1), is a PBS...</td>\n",
       "      <td>Agent</td>\n",
       "      <td>Broadcaster</td>\n",
       "      <td>TelevisionStation</td>\n",
       "      <td>WVIZ</td>\n",
       "      <td>52</td>\n",
       "    </tr>\n",
       "  </tbody>\n",
       "</table>\n",
       "<p>342781 rows × 6 columns</p>\n",
       "</div>"
      ],
      "text/plain": [
       "                                                     text     l1  \\\n",
       "0       The 1994 Mindoro earthquake occurred on Novemb...  Event   \n",
       "1       The 1917 Bali earthquake occurred at 06:50 loc...  Event   \n",
       "2       The 1941 Colima earthquake occurred on April 1...  Event   \n",
       "3       The 1983 Coalinga earthquake occurred on May 2...  Event   \n",
       "4       The 2013 Bushehr earthquake occurred with a mo...  Event   \n",
       "...                                                   ...    ...   \n",
       "342776  WCSH is the NBC-affiliated television station ...  Agent   \n",
       "342777  Al Jazeera America (AJAM) was an American basi...  Agent   \n",
       "342778  CJOH-DT, VHF channel 13, is a CTV owned-and-op...  Agent   \n",
       "342779  NTTV (North Texas Television) is a student tel...  Agent   \n",
       "342780  WVIZ (Digital channel 26, PSIP 25.1), is a PBS...  Agent   \n",
       "\n",
       "                  l2                 l3                 wiki_name  word_count  \n",
       "0       NaturalEvent         Earthquake   1994_Mindoro_earthquake          59  \n",
       "1       NaturalEvent         Earthquake      1917_Bali_earthquake          68  \n",
       "2       NaturalEvent         Earthquake    1941_Colima_earthquake         194  \n",
       "3       NaturalEvent         Earthquake  1983_Coalinga_earthquake          98  \n",
       "4       NaturalEvent         Earthquake   2013_Bushehr_earthquake          61  \n",
       "...              ...                ...                       ...         ...  \n",
       "342776   Broadcaster  TelevisionStation                      WCSH         198  \n",
       "342777   Broadcaster  TelevisionStation        Al_Jazeera_America         226  \n",
       "342778   Broadcaster  TelevisionStation                   CJOH-DT         234  \n",
       "342779   Broadcaster  TelevisionStation                      NTTV         126  \n",
       "342780   Broadcaster  TelevisionStation                      WVIZ          52  \n",
       "\n",
       "[342781 rows x 6 columns]"
      ]
     },
     "execution_count": 8,
     "metadata": {},
     "output_type": "execute_result"
    }
   ],
   "source": [
    "data_df"
   ]
  },
  {
   "cell_type": "code",
   "execution_count": 9,
   "id": "2b257b10",
   "metadata": {},
   "outputs": [],
   "source": [
    "from collections import Counter"
   ]
  },
  {
   "cell_type": "code",
   "execution_count": 10,
   "id": "ab922a85",
   "metadata": {},
   "outputs": [],
   "source": [
    "c1 = Counter(data_df['l1'])"
   ]
  },
  {
   "cell_type": "code",
   "execution_count": 12,
   "id": "3dc30598",
   "metadata": {},
   "outputs": [
    {
     "data": {
      "text/plain": [
       "9"
      ]
     },
     "execution_count": 12,
     "metadata": {},
     "output_type": "execute_result"
    }
   ],
   "source": [
    "len(c1)"
   ]
  },
  {
   "cell_type": "code",
   "execution_count": 13,
   "id": "f99b2389",
   "metadata": {},
   "outputs": [],
   "source": [
    "c2 = Counter(data_df['l2'])"
   ]
  },
  {
   "cell_type": "code",
   "execution_count": 14,
   "id": "94d31e54",
   "metadata": {},
   "outputs": [
    {
     "data": {
      "text/plain": [
       "70"
      ]
     },
     "execution_count": 14,
     "metadata": {},
     "output_type": "execute_result"
    }
   ],
   "source": [
    "len(c2)"
   ]
  },
  {
   "cell_type": "code",
   "execution_count": 15,
   "id": "ea5a9e52",
   "metadata": {},
   "outputs": [],
   "source": [
    "c3 = Counter(data_df['l3'])"
   ]
  },
  {
   "cell_type": "code",
   "execution_count": 16,
   "id": "c6601f9f",
   "metadata": {},
   "outputs": [
    {
     "data": {
      "text/plain": [
       "219"
      ]
     },
     "execution_count": 16,
     "metadata": {},
     "output_type": "execute_result"
    }
   ],
   "source": [
    "len(c3)"
   ]
  },
  {
   "cell_type": "code",
   "execution_count": 23,
   "id": "d76d2705",
   "metadata": {},
   "outputs": [],
   "source": [
    "c1_uniq = list(c1.keys())"
   ]
  },
  {
   "cell_type": "code",
   "execution_count": 25,
   "id": "09b7de6e",
   "metadata": {},
   "outputs": [
    {
     "name": "stdout",
     "output_type": "stream",
     "text": [
      "Event 6\n",
      "SportsSeason 2\n",
      "Work 8\n",
      "TopicalConcept 1\n",
      "Species 5\n",
      "Place 16\n",
      "Agent 30\n",
      "Device 1\n",
      "UnitOfWork 1\n"
     ]
    }
   ],
   "source": [
    "for c1 in c1_uniq:\n",
    "    l2 = len(set(data_df['l2'][data_df['l1'] == c1]))\n",
    "    print(c1,l2)"
   ]
  },
  {
   "cell_type": "code",
   "execution_count": 26,
   "id": "c1722af6",
   "metadata": {},
   "outputs": [
    {
     "name": "stdout",
     "output_type": "stream",
     "text": [
      "Event 18\n",
      "SportsSeason 4\n",
      "Work 17\n",
      "TopicalConcept 1\n",
      "Species 17\n",
      "Place 37\n",
      "Agent 123\n",
      "Device 1\n",
      "UnitOfWork 1\n"
     ]
    }
   ],
   "source": [
    "for c1 in c1_uniq:\n",
    "    l2 = len(set(data_df['l3'][data_df['l1'] == c1]))\n",
    "    print(c1,l2)"
   ]
  },
  {
   "cell_type": "code",
   "execution_count": 27,
   "id": "58cf6291",
   "metadata": {},
   "outputs": [
    {
     "data": {
      "text/plain": [
       "65128"
      ]
     },
     "execution_count": 27,
     "metadata": {},
     "output_type": "execute_result"
    }
   ],
   "source": [
    "len(data_df[data_df['l1']=='Place'])"
   ]
  },
  {
   "cell_type": "code",
   "execution_count": 28,
   "id": "6025f2e1",
   "metadata": {},
   "outputs": [
    {
     "data": {
      "text/plain": [
       "177341"
      ]
     },
     "execution_count": 28,
     "metadata": {},
     "output_type": "execute_result"
    }
   ],
   "source": [
    "len(data_df[data_df['l1']=='Agent'])"
   ]
  },
  {
   "cell_type": "code",
   "execution_count": 29,
   "id": "71feb8ca",
   "metadata": {},
   "outputs": [
    {
     "data": {
      "text/html": [
       "<div>\n",
       "<style scoped>\n",
       "    .dataframe tbody tr th:only-of-type {\n",
       "        vertical-align: middle;\n",
       "    }\n",
       "\n",
       "    .dataframe tbody tr th {\n",
       "        vertical-align: top;\n",
       "    }\n",
       "\n",
       "    .dataframe thead th {\n",
       "        text-align: right;\n",
       "    }\n",
       "</style>\n",
       "<table border=\"1\" class=\"dataframe\">\n",
       "  <thead>\n",
       "    <tr style=\"text-align: right;\">\n",
       "      <th></th>\n",
       "      <th>text</th>\n",
       "      <th>l1</th>\n",
       "      <th>l2</th>\n",
       "      <th>l3</th>\n",
       "      <th>wiki_name</th>\n",
       "      <th>word_count</th>\n",
       "    </tr>\n",
       "  </thead>\n",
       "  <tbody>\n",
       "    <tr>\n",
       "      <th>311039</th>\n",
       "      <td>The British Democratic Party (BDP) was a short...</td>\n",
       "      <td>Agent</td>\n",
       "      <td>Organisation</td>\n",
       "      <td>PoliticalParty</td>\n",
       "      <td>British_Democratic_Party</td>\n",
       "      <td>43</td>\n",
       "    </tr>\n",
       "    <tr>\n",
       "      <th>81453</th>\n",
       "      <td>Vinialesaurus is a genus of plesiosaur from th...</td>\n",
       "      <td>Species</td>\n",
       "      <td>Animal</td>\n",
       "      <td>Reptile</td>\n",
       "      <td>Vinialesaurus</td>\n",
       "      <td>101</td>\n",
       "    </tr>\n",
       "    <tr>\n",
       "      <th>268591</th>\n",
       "      <td>William Francis Cody (June 19, 1916 – August 2...</td>\n",
       "      <td>Agent</td>\n",
       "      <td>Person</td>\n",
       "      <td>Architect</td>\n",
       "      <td>William_Francis_Cody</td>\n",
       "      <td>118</td>\n",
       "    </tr>\n",
       "  </tbody>\n",
       "</table>\n",
       "</div>"
      ],
      "text/plain": [
       "                                                     text       l1  \\\n",
       "311039  The British Democratic Party (BDP) was a short...    Agent   \n",
       "81453   Vinialesaurus is a genus of plesiosaur from th...  Species   \n",
       "268591  William Francis Cody (June 19, 1916 – August 2...    Agent   \n",
       "\n",
       "                  l2              l3                 wiki_name  word_count  \n",
       "311039  Organisation  PoliticalParty  British_Democratic_Party          43  \n",
       "81453         Animal         Reptile             Vinialesaurus         101  \n",
       "268591        Person       Architect      William_Francis_Cody         118  "
      ]
     },
     "execution_count": 29,
     "metadata": {},
     "output_type": "execute_result"
    }
   ],
   "source": [
    "data_df.sample(n = 3)"
   ]
  },
  {
   "cell_type": "code",
   "execution_count": null,
   "id": "c3beb4f3",
   "metadata": {},
   "outputs": [],
   "source": []
  }
 ],
 "metadata": {
  "kernelspec": {
   "display_name": "Python 3 (ipykernel)",
   "language": "python",
   "name": "python3"
  },
  "language_info": {
   "codemirror_mode": {
    "name": "ipython",
    "version": 3
   },
   "file_extension": ".py",
   "mimetype": "text/x-python",
   "name": "python",
   "nbconvert_exporter": "python",
   "pygments_lexer": "ipython3",
   "version": "3.9.7"
  }
 },
 "nbformat": 4,
 "nbformat_minor": 5
}
